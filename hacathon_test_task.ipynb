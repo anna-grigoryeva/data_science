{
 "cells": [
  {
   "cell_type": "markdown",
   "metadata": {},
   "source": [
    "# Тестовое задание по Data Science для хакатона ЭКСМО"
   ]
  },
  {
   "cell_type": "code",
   "execution_count": null,
   "metadata": {},
   "outputs": [],
   "source": [
    "import speech_recognition as sr\n",
    "import sys\n",
    "import contextlib"
   ]
  },
  {
   "cell_type": "code",
   "execution_count": null,
   "metadata": {},
   "outputs": [],
   "source": [
    "def command():\n",
    "\t# Создаем объект на основе библиотеки\n",
    "\t# speech_recognition и вызываем метод для определения данных\n",
    "\tr = sr.Recognizer()\n",
    "\n",
    "\t# Начинаем прослушивать микрофон и записываем данные в source\n",
    "\twith sr.Microphone() as source:\n",
    "\t\t# Просто вывод, чтобы мы знали когда говорить\n",
    "\t\tprint(\"Говорите\")\n",
    "\t\t# Устанавливаем паузу, чтобы прослушивание\n",
    "\t\t# началось лишь по прошествию 1 секунды\n",
    "\t\tr.pause_threshold = 1\n",
    "\t\t# Удаляем посторонние шумы\n",
    "\t\tr.adjust_for_ambient_noise(source, duration=1)\n",
    "\t\t# Полученные данные записываем в переменную audio\n",
    "\t\taudio = r.listen(source)\n",
    "\n",
    "\twith open(\"Neznayka_task.txt\", \"a\") as task_file:\n",
    "\t\ttask = r.recognize_google(audio, language=\"ru-RU\")\n",
    "\t\t# Записываем в файл Neznayka_task.txt сказанное пользователем\n",
    "\t\tprint(task, file=task_file)\n",
    "\t\t\n",
    "\treturn task"
   ]
  },
  {
   "cell_type": "code",
   "execution_count": null,
   "metadata": {},
   "outputs": [],
   "source": [
    "def makeSomething(task):\n",
    "\t# Если не было сказано \"стоп\", то выводим сказанное\n",
    "\tif 'стоп' not in task:\n",
    "\t\tprint(task)\n",
    "\telse:\n",
    "\t\tprint(\"Останавливаюсь\")\n",
    "\t\t# Если сказано \"стоп\", выходим из программы\n",
    "\t\tsys.exit()"
   ]
  },
  {
   "cell_type": "code",
   "execution_count": null,
   "metadata": {},
   "outputs": [],
   "source": [
    "# Вызов функции происходит бесконечно, пока не будет сказано \"стоп\"\n",
    "while True:\n",
    "\tmakeSomething(command())"
   ]
  }
 ],
 "metadata": {
  "kernelspec": {
   "display_name": "Python 3.8.10 64-bit",
   "language": "python",
   "name": "python3"
  },
  "language_info": {
   "codemirror_mode": {
    "name": "ipython",
    "version": 3
   },
   "file_extension": ".py",
   "mimetype": "text/x-python",
   "name": "python",
   "nbconvert_exporter": "python",
   "pygments_lexer": "ipython3",
   "version": "3.8.10"
  },
  "orig_nbformat": 4,
  "vscode": {
   "interpreter": {
    "hash": "092e1d9bfdd10227fd7108a7ca2a3c37dd1be826b1cf154460a9e05c89dca9f1"
   }
  }
 },
 "nbformat": 4,
 "nbformat_minor": 2
}
