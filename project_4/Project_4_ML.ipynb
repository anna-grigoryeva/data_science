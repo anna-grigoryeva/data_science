{
 "cells": [
  {
   "cell_type": "markdown",
   "id": "c353de9a",
   "metadata": {},
   "source": [
    "# Проект: классификация"
   ]
  },
  {
   "cell_type": "markdown",
   "id": "4ccd3f5e",
   "metadata": {},
   "source": [
    "### Данные о клиентах банка:\n",
    "\n",
    "- age (возраст);\n",
    "- job (сфера занятости);\n",
    "- marital (семейное положение);\n",
    "- education (уровень образования);\n",
    "- default (имеется ли просроченный кредит);\n",
    "- housing (имеется ли кредит на жильё);\n",
    "- loan (имеется ли кредит на личные нужды);\n",
    "- balance (баланс).\n",
    "\n",
    "### Данные, связанные с последним контактом:\n",
    "\n",
    "- contact (тип контакта с клиентом);\n",
    "- month (месяц, в котором был последний контакт);\n",
    "- day (день, в который был последний контакт);\n",
    "- duration (продолжительность контакта в секундах).\n",
    "\n",
    "### Прочие признаки:\n",
    "\n",
    "- campaign (количество контактов с этим клиентом в течение текущей кампании);\n",
    "- pdays (количество пропущенных дней с момента последней маркетинговой кампании до контакта в текущей кампании);\n",
    "- previous (количество контактов до текущей кампании)\n",
    "- poutcome (результат прошлой маркетинговой кампании).\n",
    "\n",
    "### Целевой признак:\n",
    "\n",
    "- deposit (вложил ли клиент деньги в банк)"
   ]
  },
  {
   "cell_type": "code",
   "execution_count": 17,
   "id": "4a6e54dc",
   "metadata": {},
   "outputs": [],
   "source": [
    "import pandas as pd\n",
    "import numpy as np\n",
    "import matplotlib.pyplot as plt\n",
    "import seaborn as sns\n",
    "from  sklearn.ensemble import IsolationForest\n",
    "import warnings\n",
    "warnings.filterwarnings('ignore')\n",
    "from sklearn.preprocessing  import LabelEncoder\n",
    "from sklearn import linear_model \n",
    "from sklearn import tree \n",
    "from sklearn import ensemble \n",
    "from sklearn import metrics \n",
    "from sklearn import preprocessing \n",
    "from sklearn.model_selection import train_test_split \n",
    "from sklearn.feature_selection import SelectKBest, f_classif, RFE\n",
    "import optuna"
   ]
  },
  {
   "cell_type": "markdown",
   "id": "71559b60",
   "metadata": {},
   "source": [
    "## Часть 1. Знакомство с данными, обработка пропусков и выбросов"
   ]
  },
  {
   "cell_type": "markdown",
   "id": "7c5e31b2",
   "metadata": {},
   "source": [
    "### Прочитаем данные и посмотрим, есть ли пропуски"
   ]
  },
  {
   "cell_type": "code",
   "execution_count": 18,
   "id": "20730cd7",
   "metadata": {},
   "outputs": [
    {
     "data": {
      "text/html": [
       "<div>\n",
       "<style scoped>\n",
       "    .dataframe tbody tr th:only-of-type {\n",
       "        vertical-align: middle;\n",
       "    }\n",
       "\n",
       "    .dataframe tbody tr th {\n",
       "        vertical-align: top;\n",
       "    }\n",
       "\n",
       "    .dataframe thead th {\n",
       "        text-align: right;\n",
       "    }\n",
       "</style>\n",
       "<table border=\"1\" class=\"dataframe\">\n",
       "  <thead>\n",
       "    <tr style=\"text-align: right;\">\n",
       "      <th></th>\n",
       "      <th>age</th>\n",
       "      <th>job</th>\n",
       "      <th>marital</th>\n",
       "      <th>education</th>\n",
       "      <th>default</th>\n",
       "      <th>balance</th>\n",
       "      <th>housing</th>\n",
       "      <th>loan</th>\n",
       "      <th>contact</th>\n",
       "      <th>day</th>\n",
       "      <th>month</th>\n",
       "      <th>duration</th>\n",
       "      <th>campaign</th>\n",
       "      <th>pdays</th>\n",
       "      <th>previous</th>\n",
       "      <th>poutcome</th>\n",
       "      <th>deposit</th>\n",
       "    </tr>\n",
       "  </thead>\n",
       "  <tbody>\n",
       "    <tr>\n",
       "      <th>0</th>\n",
       "      <td>59</td>\n",
       "      <td>admin.</td>\n",
       "      <td>married</td>\n",
       "      <td>secondary</td>\n",
       "      <td>no</td>\n",
       "      <td>2 343,00 $</td>\n",
       "      <td>yes</td>\n",
       "      <td>no</td>\n",
       "      <td>unknown</td>\n",
       "      <td>5</td>\n",
       "      <td>may</td>\n",
       "      <td>1042</td>\n",
       "      <td>1</td>\n",
       "      <td>-1</td>\n",
       "      <td>0</td>\n",
       "      <td>unknown</td>\n",
       "      <td>yes</td>\n",
       "    </tr>\n",
       "    <tr>\n",
       "      <th>1</th>\n",
       "      <td>56</td>\n",
       "      <td>admin.</td>\n",
       "      <td>married</td>\n",
       "      <td>secondary</td>\n",
       "      <td>no</td>\n",
       "      <td>45,00 $</td>\n",
       "      <td>no</td>\n",
       "      <td>no</td>\n",
       "      <td>unknown</td>\n",
       "      <td>5</td>\n",
       "      <td>may</td>\n",
       "      <td>1467</td>\n",
       "      <td>1</td>\n",
       "      <td>-1</td>\n",
       "      <td>0</td>\n",
       "      <td>unknown</td>\n",
       "      <td>yes</td>\n",
       "    </tr>\n",
       "    <tr>\n",
       "      <th>2</th>\n",
       "      <td>41</td>\n",
       "      <td>technician</td>\n",
       "      <td>married</td>\n",
       "      <td>secondary</td>\n",
       "      <td>no</td>\n",
       "      <td>1 270,00 $</td>\n",
       "      <td>yes</td>\n",
       "      <td>no</td>\n",
       "      <td>unknown</td>\n",
       "      <td>5</td>\n",
       "      <td>may</td>\n",
       "      <td>1389</td>\n",
       "      <td>1</td>\n",
       "      <td>-1</td>\n",
       "      <td>0</td>\n",
       "      <td>unknown</td>\n",
       "      <td>yes</td>\n",
       "    </tr>\n",
       "    <tr>\n",
       "      <th>3</th>\n",
       "      <td>55</td>\n",
       "      <td>services</td>\n",
       "      <td>married</td>\n",
       "      <td>secondary</td>\n",
       "      <td>no</td>\n",
       "      <td>2 476,00 $</td>\n",
       "      <td>yes</td>\n",
       "      <td>no</td>\n",
       "      <td>unknown</td>\n",
       "      <td>5</td>\n",
       "      <td>may</td>\n",
       "      <td>579</td>\n",
       "      <td>1</td>\n",
       "      <td>-1</td>\n",
       "      <td>0</td>\n",
       "      <td>unknown</td>\n",
       "      <td>yes</td>\n",
       "    </tr>\n",
       "    <tr>\n",
       "      <th>4</th>\n",
       "      <td>54</td>\n",
       "      <td>admin.</td>\n",
       "      <td>married</td>\n",
       "      <td>tertiary</td>\n",
       "      <td>no</td>\n",
       "      <td>184,00 $</td>\n",
       "      <td>no</td>\n",
       "      <td>no</td>\n",
       "      <td>unknown</td>\n",
       "      <td>5</td>\n",
       "      <td>may</td>\n",
       "      <td>673</td>\n",
       "      <td>2</td>\n",
       "      <td>-1</td>\n",
       "      <td>0</td>\n",
       "      <td>unknown</td>\n",
       "      <td>yes</td>\n",
       "    </tr>\n",
       "  </tbody>\n",
       "</table>\n",
       "</div>"
      ],
      "text/plain": [
       "   age         job  marital  education default       balance housing loan  \\\n",
       "0   59      admin.  married  secondary      no   2 343,00 $      yes   no   \n",
       "1   56      admin.  married  secondary      no      45,00 $       no   no   \n",
       "2   41  technician  married  secondary      no   1 270,00 $      yes   no   \n",
       "3   55    services  married  secondary      no   2 476,00 $      yes   no   \n",
       "4   54      admin.  married   tertiary      no     184,00 $       no   no   \n",
       "\n",
       "   contact  day month  duration  campaign  pdays  previous poutcome deposit  \n",
       "0  unknown    5   may      1042         1     -1         0  unknown     yes  \n",
       "1  unknown    5   may      1467         1     -1         0  unknown     yes  \n",
       "2  unknown    5   may      1389         1     -1         0  unknown     yes  \n",
       "3  unknown    5   may       579         1     -1         0  unknown     yes  \n",
       "4  unknown    5   may       673         2     -1         0  unknown     yes  "
      ]
     },
     "execution_count": 18,
     "metadata": {},
     "output_type": "execute_result"
    }
   ],
   "source": [
    "df = pd.read_csv('https://lms.skillfactory.ru/assets/courseware/v1/dab91dc74eb3cb684755123d224d262b/asset-v1:SkillFactory+DSPR-2.0+14JULY2021+type@asset+block/bank_fin.zip', sep = ';')\n",
    "df.head()"
   ]
  },
  {
   "cell_type": "code",
   "execution_count": 19,
   "id": "ba11dc67",
   "metadata": {},
   "outputs": [
    {
     "name": "stdout",
     "output_type": "stream",
     "text": [
      "<class 'pandas.core.frame.DataFrame'>\n",
      "RangeIndex: 11162 entries, 0 to 11161\n",
      "Data columns (total 17 columns):\n",
      " #   Column     Non-Null Count  Dtype \n",
      "---  ------     --------------  ----- \n",
      " 0   age        11162 non-null  int64 \n",
      " 1   job        11162 non-null  object\n",
      " 2   marital    11162 non-null  object\n",
      " 3   education  11162 non-null  object\n",
      " 4   default    11162 non-null  object\n",
      " 5   balance    11137 non-null  object\n",
      " 6   housing    11162 non-null  object\n",
      " 7   loan       11162 non-null  object\n",
      " 8   contact    11162 non-null  object\n",
      " 9   day        11162 non-null  int64 \n",
      " 10  month      11162 non-null  object\n",
      " 11  duration   11162 non-null  int64 \n",
      " 12  campaign   11162 non-null  int64 \n",
      " 13  pdays      11162 non-null  int64 \n",
      " 14  previous   11162 non-null  int64 \n",
      " 15  poutcome   11162 non-null  object\n",
      " 16  deposit    11162 non-null  object\n",
      "dtypes: int64(6), object(11)\n",
      "memory usage: 1.4+ MB\n"
     ]
    }
   ],
   "source": [
    "df.info()"
   ]
  },
  {
   "cell_type": "code",
   "execution_count": 20,
   "id": "3a3b9eaf",
   "metadata": {},
   "outputs": [
    {
     "data": {
      "text/plain": [
       "25"
      ]
     },
     "execution_count": 20,
     "metadata": {},
     "output_type": "execute_result"
    }
   ],
   "source": [
    "df.balance.isnull().sum()"
   ]
  },
  {
   "cell_type": "markdown",
   "id": "d746e85c",
   "metadata": {},
   "source": [
    "Пропуски есть в признаке balamce - их 25"
   ]
  },
  {
   "cell_type": "markdown",
   "id": "6366f059",
   "metadata": {},
   "source": [
    "### Проверим, нет ли закодированных пропусков в признаках job и education"
   ]
  },
  {
   "cell_type": "code",
   "execution_count": 21,
   "id": "98ea29d4",
   "metadata": {},
   "outputs": [
    {
     "data": {
      "text/plain": [
       "management       2566\n",
       "blue-collar      1944\n",
       "technician       1823\n",
       "admin.           1334\n",
       "services          923\n",
       "retired           778\n",
       "self-employed     405\n",
       "student           360\n",
       "unemployed        357\n",
       "entrepreneur      328\n",
       "housemaid         274\n",
       "unknown            70\n",
       "Name: job, dtype: int64"
      ]
     },
     "execution_count": 21,
     "metadata": {},
     "output_type": "execute_result"
    }
   ],
   "source": [
    "df.job.value_counts()"
   ]
  },
  {
   "cell_type": "code",
   "execution_count": 22,
   "id": "d1477ff1",
   "metadata": {},
   "outputs": [
    {
     "data": {
      "text/plain": [
       "secondary    5476\n",
       "tertiary     3689\n",
       "primary      1500\n",
       "unknown       497\n",
       "Name: education, dtype: int64"
      ]
     },
     "execution_count": 22,
     "metadata": {},
     "output_type": "execute_result"
    }
   ],
   "source": [
    "df.education.value_counts()"
   ]
  },
  {
   "cell_type": "markdown",
   "id": "a0157fc5",
   "metadata": {},
   "source": [
    "Мы видим значение unknown - это закодированный пропуск"
   ]
  },
  {
   "cell_type": "markdown",
   "id": "8fcf4fcd",
   "metadata": {},
   "source": [
    "### Чтобы признак balance считывался как число, уберём и него пробел и знак доллара"
   ]
  },
  {
   "cell_type": "code",
   "execution_count": 23,
   "id": "3a01be5e",
   "metadata": {},
   "outputs": [],
   "source": [
    "df['balance'] = df['balance'].str.replace('$', '')\n",
    "df['balance'] = df['balance'].str.replace(',00', '')\n",
    "df['balance'] = df['balance'].str.replace(' ', '')\n",
    "df['balance'] = df['balance'].astype('float')"
   ]
  },
  {
   "cell_type": "markdown",
   "id": "6de63fd7",
   "metadata": {},
   "source": [
    "### Заменим пропуски в balance на медианное значение"
   ]
  },
  {
   "cell_type": "code",
   "execution_count": 24,
   "id": "6a684a63",
   "metadata": {},
   "outputs": [],
   "source": [
    "df['balance'] = df['balance'].fillna(df['balance'].median())"
   ]
  },
  {
   "cell_type": "markdown",
   "id": "1097ec42",
   "metadata": {},
   "source": [
    "### Заменим unknown в признаках работы и образования на моду"
   ]
  },
  {
   "cell_type": "code",
   "execution_count": 25,
   "id": "0fa070a6",
   "metadata": {},
   "outputs": [],
   "source": [
    "df['job'] = df['job'].replace('unknown', df['job'].mode()[0])\n",
    "df['education'] = df['education'].replace('unknown', df['education'].mode()[0])"
   ]
  },
  {
   "cell_type": "markdown",
   "id": "02af77c6",
   "metadata": {},
   "source": [
    "### Удалим выбросы из признака balance по методу Тьюки"
   ]
  },
  {
   "cell_type": "code",
   "execution_count": 26,
   "id": "3802cdd9",
   "metadata": {},
   "outputs": [
    {
     "name": "stdout",
     "output_type": "stream",
     "text": [
      "-2241.0 4063.0\n"
     ]
    }
   ],
   "source": [
    "q3 = np.percentile(df['balance'], 75)\n",
    "q1 = np.percentile(df['balance'], 25)\n",
    "\n",
    "lower_bound = q1 - 1.5*(q3-q1)\n",
    "upper_bound = q3 + 1.5*(q3-q1)\n",
    "\n",
    "print(lower_bound, upper_bound)"
   ]
  },
  {
   "cell_type": "code",
   "execution_count": 27,
   "id": "93b30e56",
   "metadata": {},
   "outputs": [
    {
     "data": {
      "text/plain": [
       "(10105, 17)"
      ]
     },
     "execution_count": 27,
     "metadata": {},
     "output_type": "execute_result"
    }
   ],
   "source": [
    "df = df[(df.balance >= lower_bound) & (df.balance <= upper_bound)]\n",
    "df.shape"
   ]
  },
  {
   "cell_type": "markdown",
   "id": "5d22b8cd",
   "metadata": {},
   "source": [
    "## Часть 2:  Разведывательный анализ"
   ]
  },
  {
   "cell_type": "markdown",
   "id": "21e1f083",
   "metadata": {},
   "source": [
    "### Посмотрим на распределение целевой переменной - есть ли несбалансированность классов?"
   ]
  },
  {
   "cell_type": "code",
   "execution_count": 28,
   "id": "6d0cd3a8",
   "metadata": {},
   "outputs": [
    {
     "data": {
      "text/plain": [
       "no     5424\n",
       "yes    4681\n",
       "Name: deposit, dtype: int64"
      ]
     },
     "execution_count": 28,
     "metadata": {},
     "output_type": "execute_result"
    }
   ],
   "source": [
    "df.deposit.value_counts()"
   ]
  },
  {
   "cell_type": "code",
   "execution_count": 29,
   "id": "741a0db0",
   "metadata": {},
   "outputs": [
    {
     "data": {
      "text/plain": [
       "<AxesSubplot:xlabel='deposit', ylabel='count'>"
      ]
     },
     "execution_count": 29,
     "metadata": {},
     "output_type": "execute_result"
    },
    {
     "data": {
      "image/png": "[encoded data removed]",
      "text/plain": [
       "<Figure size 640x480 with 1 Axes>"
      ]
     },
     "metadata": {},
     "output_type": "display_data"
    }
   ],
   "source": [
    "sns.countplot(x=df.deposit)"
   ]
  },
  {
   "cell_type": "markdown",
   "id": "480cbc19",
   "metadata": {},
   "source": [
    "Да, заметна несбалансированность"
   ]
  },
  {
   "cell_type": "markdown",
   "id": "426b1d40",
   "metadata": {},
   "source": [
    "### Посмотрим на описательную статистику количественных переменных"
   ]
  },
  {
   "cell_type": "code",
   "execution_count": 30,
   "id": "603cdb3c",
   "metadata": {},
   "outputs": [
    {
     "name": "stdout",
     "output_type": "stream",
     "text": [
      "95\n",
      "18\n"
     ]
    }
   ],
   "source": [
    "print(df.age.max())\n",
    "print(df.age.min())"
   ]
  },
  {
   "cell_type": "code",
   "execution_count": 31,
   "id": "ad4cf035",
   "metadata": {},
   "outputs": [
    {
     "name": "stdout",
     "output_type": "stream",
     "text": [
      "3881\n",
      "2\n"
     ]
    }
   ],
   "source": [
    "print(df.duration.max())\n",
    "print(df.duration.min())"
   ]
  },
  {
   "cell_type": "markdown",
   "id": "821dc39e",
   "metadata": {},
   "source": [
    "### Посмотрим на описательную статистику категориальных переменных"
   ]
  },
  {
   "cell_type": "code",
   "execution_count": 32,
   "id": "bf45afc9",
   "metadata": {},
   "outputs": [
    {
     "data": {
      "text/plain": [
       "12"
      ]
     },
     "execution_count": 32,
     "metadata": {},
     "output_type": "execute_result"
    }
   ],
   "source": [
    "df.month.nunique()"
   ]
  },
  {
   "cell_type": "markdown",
   "id": "fc363531",
   "metadata": {},
   "source": [
    "Маркетинговая компания проводилась во все месяцы"
   ]
  },
  {
   "cell_type": "code",
   "execution_count": 33,
   "id": "371be735",
   "metadata": {},
   "outputs": [
    {
     "data": {
      "text/plain": [
       "11"
      ]
     },
     "execution_count": 33,
     "metadata": {},
     "output_type": "execute_result"
    }
   ],
   "source": [
    "df.job.nunique()"
   ]
  },
  {
   "cell_type": "markdown",
   "id": "29626bd0",
   "metadata": {},
   "source": [
    "Среди клиентов представлено 11 сфер занятости"
   ]
  },
  {
   "cell_type": "markdown",
   "id": "472cff5b",
   "metadata": {},
   "source": [
    "### Узнаем, есть ли разница в результатах текущей маркетинговой кампании и предыдущей. Возможно, люди, которые уже однажды согласились на предложение банка, более склонны принять его вновь. Посмотрим, для какого статуса предыдущей маркетинговой кампании успех в текущей превалирует над количеством неудач."
   ]
  },
  {
   "cell_type": "code",
   "execution_count": 34,
   "id": "2d640ce1",
   "metadata": {},
   "outputs": [
    {
     "data": {
      "text/plain": [
       "<AxesSubplot:xlabel='poutcome'>"
      ]
     },
     "execution_count": 34,
     "metadata": {},
     "output_type": "execute_result"
    },
    {
     "data": {
      "image/png": "[encoded data removed]",
      "text/plain": [
       "<Figure size 640x480 with 1 Axes>"
      ]
     },
     "metadata": {},
     "output_type": "display_data"
    }
   ],
   "source": [
    "types = df.groupby(\"poutcome\")['deposit'].value_counts(normalize=False).unstack()\n",
    "types.plot(kind='bar')"
   ]
  },
  {
   "cell_type": "markdown",
   "id": "ef9409b9",
   "metadata": {},
   "source": [
    "Видим, что если статус предыдущей маркетинговой кампании - success, то в текущей кампании у неё тоже намного больше успехов, чем неудач"
   ]
  },
  {
   "cell_type": "markdown",
   "id": "9c32e3aa",
   "metadata": {},
   "source": [
    "### Посмотрим, в каком месяце самый большой процент неудач при взаимодействии в текущей маркетинговой кампании"
   ]
  },
  {
   "cell_type": "code",
   "execution_count": 35,
   "id": "df437ec3",
   "metadata": {},
   "outputs": [
    {
     "data": {
      "text/html": [
       "<div>\n",
       "<style scoped>\n",
       "    .dataframe tbody tr th:only-of-type {\n",
       "        vertical-align: middle;\n",
       "    }\n",
       "\n",
       "    .dataframe tbody tr th {\n",
       "        vertical-align: top;\n",
       "    }\n",
       "\n",
       "    .dataframe thead th {\n",
       "        text-align: right;\n",
       "    }\n",
       "</style>\n",
       "<table border=\"1\" class=\"dataframe\">\n",
       "  <thead>\n",
       "    <tr style=\"text-align: right;\">\n",
       "      <th>deposit</th>\n",
       "      <th>no</th>\n",
       "      <th>yes</th>\n",
       "    </tr>\n",
       "    <tr>\n",
       "      <th>month</th>\n",
       "      <th></th>\n",
       "      <th></th>\n",
       "    </tr>\n",
       "  </thead>\n",
       "  <tbody>\n",
       "    <tr>\n",
       "      <th>apr</th>\n",
       "      <td>317</td>\n",
       "      <td>513</td>\n",
       "    </tr>\n",
       "    <tr>\n",
       "      <th>aug</th>\n",
       "      <td>775</td>\n",
       "      <td>610</td>\n",
       "    </tr>\n",
       "    <tr>\n",
       "      <th>dec</th>\n",
       "      <td>9</td>\n",
       "      <td>84</td>\n",
       "    </tr>\n",
       "    <tr>\n",
       "      <th>feb</th>\n",
       "      <td>323</td>\n",
       "      <td>386</td>\n",
       "    </tr>\n",
       "    <tr>\n",
       "      <th>jan</th>\n",
       "      <td>194</td>\n",
       "      <td>125</td>\n",
       "    </tr>\n",
       "    <tr>\n",
       "      <th>jul</th>\n",
       "      <td>836</td>\n",
       "      <td>582</td>\n",
       "    </tr>\n",
       "    <tr>\n",
       "      <th>jun</th>\n",
       "      <td>606</td>\n",
       "      <td>498</td>\n",
       "    </tr>\n",
       "    <tr>\n",
       "      <th>mar</th>\n",
       "      <td>24</td>\n",
       "      <td>213</td>\n",
       "    </tr>\n",
       "    <tr>\n",
       "      <th>may</th>\n",
       "      <td>1776</td>\n",
       "      <td>841</td>\n",
       "    </tr>\n",
       "    <tr>\n",
       "      <th>nov</th>\n",
       "      <td>456</td>\n",
       "      <td>324</td>\n",
       "    </tr>\n",
       "    <tr>\n",
       "      <th>oct</th>\n",
       "      <td>62</td>\n",
       "      <td>273</td>\n",
       "    </tr>\n",
       "    <tr>\n",
       "      <th>sep</th>\n",
       "      <td>46</td>\n",
       "      <td>232</td>\n",
       "    </tr>\n",
       "  </tbody>\n",
       "</table>\n",
       "</div>"
      ],
      "text/plain": [
       "deposit    no  yes\n",
       "month             \n",
       "apr       317  513\n",
       "aug       775  610\n",
       "dec         9   84\n",
       "feb       323  386\n",
       "jan       194  125\n",
       "jul       836  582\n",
       "jun       606  498\n",
       "mar        24  213\n",
       "may      1776  841\n",
       "nov       456  324\n",
       "oct        62  273\n",
       "sep        46  232"
      ]
     },
     "execution_count": 35,
     "metadata": {},
     "output_type": "execute_result"
    }
   ],
   "source": [
    "months = df.groupby(\"month\")['deposit'].value_counts(normalize=False).unstack()\n",
    "months"
   ]
  },
  {
   "cell_type": "code",
   "execution_count": 36,
   "id": "1990541b",
   "metadata": {},
   "outputs": [
    {
     "name": "stdout",
     "output_type": "stream",
     "text": [
      "month\n",
      "may    0.678640\n",
      "jan    0.608150\n",
      "jul    0.589563\n",
      "nov    0.584615\n",
      "aug    0.559567\n",
      "jun    0.548913\n",
      "feb    0.455571\n",
      "apr    0.381928\n",
      "oct    0.185075\n",
      "sep    0.165468\n",
      "mar    0.101266\n",
      "dec    0.096774\n",
      "dtype: float64\n"
     ]
    }
   ],
   "source": [
    "result = months.apply(lambda row: row['no'] / (row['yes'] + row['no']), axis=1).sort_values(ascending=False)\n",
    "print(result)"
   ]
  },
  {
   "cell_type": "markdown",
   "id": "5f20762f",
   "metadata": {},
   "source": [
    "### Создадим новую переменную, обозначающую возрастные группы, и посмотрим, какие группы более склонны открывать депозит, чем отказываться от открытия депозита в банке после рекламного предложения"
   ]
  },
  {
   "cell_type": "code",
   "execution_count": 37,
   "id": "95d56f1b",
   "metadata": {},
   "outputs": [
    {
     "data": {
      "text/plain": [
       "<AxesSubplot:xlabel='age_group', ylabel='count'>"
      ]
     },
     "execution_count": 37,
     "metadata": {},
     "output_type": "execute_result"
    },
    {
     "data": {
      "image/png": "[encoded data removed]",
      "text/plain": [
       "<Figure size 640x480 with 1 Axes>"
      ]
     },
     "metadata": {},
     "output_type": "display_data"
    }
   ],
   "source": [
    "df['age_group'] = pd.cut(df.age, [0,30,40,50,60,9999], labels = ['<30','30-40','40-50','50-60','60+'])\n",
    "sns.countplot(x=\"age_group\", hue=\"deposit\", data=df)"
   ]
  },
  {
   "cell_type": "markdown",
   "id": "0841c685",
   "metadata": {},
   "source": [
    "### Посмотрим, как зависит соотношение успешных и неуспешных контактов с клиентами от семейного положения, уровня образования, сферы занятости"
   ]
  },
  {
   "cell_type": "code",
   "execution_count": 38,
   "id": "0d84a9e1",
   "metadata": {},
   "outputs": [
    {
     "data": {
      "text/plain": [
       "<AxesSubplot:xlabel='count', ylabel='marital'>"
      ]
     },
     "execution_count": 38,
     "metadata": {},
     "output_type": "execute_result"
    },
    {
     "data": {
      "image/png": "[encoded data removed]",
      "text/plain": [
       "<Figure size 640x480 with 1 Axes>"
      ]
     },
     "metadata": {},
     "output_type": "display_data"
    }
   ],
   "source": [
    "sns.countplot(y='marital', hue='deposit', data=df)"
   ]
  },
  {
   "cell_type": "code",
   "execution_count": 39,
   "id": "16333967",
   "metadata": {},
   "outputs": [
    {
     "data": {
      "text/plain": [
       "<AxesSubplot:xlabel='count', ylabel='education'>"
      ]
     },
     "execution_count": 39,
     "metadata": {},
     "output_type": "execute_result"
    },
    {
     "data": {
      "image/png": "[encoded data removed]",
      "text/plain": [
       "<Figure size 640x480 with 1 Axes>"
      ]
     },
     "metadata": {},
     "output_type": "display_data"
    }
   ],
   "source": [
    "sns.countplot(y='education', hue='deposit', data=df)"
   ]
  },
  {
   "cell_type": "code",
   "execution_count": 40,
   "id": "738224f8",
   "metadata": {},
   "outputs": [
    {
     "data": {
      "text/plain": [
       "<AxesSubplot:xlabel='count', ylabel='job'>"
      ]
     },
     "execution_count": 40,
     "metadata": {},
     "output_type": "execute_result"
    },
    {
     "data": {
      "image/png": "[encoded data removed]",
      "text/plain": [
       "<Figure size 640x480 with 1 Axes>"
      ]
     },
     "metadata": {},
     "output_type": "display_data"
    }
   ],
   "source": [
    "sns.countplot(y='job', data=df)"
   ]
  },
  {
   "cell_type": "markdown",
   "id": "a521e204",
   "metadata": {},
   "source": [
    "### Каких людей среди открывших и не открывших депозит больше: одиноких с высшим образованием или разведённых с более низким уровнем образования? Посмотрим на пересечение категорий"
   ]
  },
  {
   "cell_type": "code",
   "execution_count": 41,
   "id": "35ab0413",
   "metadata": {},
   "outputs": [
    {
     "data": {
      "text/html": [
       "<div>\n",
       "<style scoped>\n",
       "    .dataframe tbody tr th:only-of-type {\n",
       "        vertical-align: middle;\n",
       "    }\n",
       "\n",
       "    .dataframe tbody tr th {\n",
       "        vertical-align: top;\n",
       "    }\n",
       "\n",
       "    .dataframe thead th {\n",
       "        text-align: right;\n",
       "    }\n",
       "</style>\n",
       "<table border=\"1\" class=\"dataframe\">\n",
       "  <thead>\n",
       "    <tr style=\"text-align: right;\">\n",
       "      <th>marital</th>\n",
       "      <th>divorced</th>\n",
       "      <th>married</th>\n",
       "      <th>single</th>\n",
       "    </tr>\n",
       "    <tr>\n",
       "      <th>education</th>\n",
       "      <th></th>\n",
       "      <th></th>\n",
       "      <th></th>\n",
       "    </tr>\n",
       "  </thead>\n",
       "  <tbody>\n",
       "    <tr>\n",
       "      <th>primary</th>\n",
       "      <td>96</td>\n",
       "      <td>339</td>\n",
       "      <td>82</td>\n",
       "    </tr>\n",
       "    <tr>\n",
       "      <th>secondary</th>\n",
       "      <td>283</td>\n",
       "      <td>1289</td>\n",
       "      <td>879</td>\n",
       "    </tr>\n",
       "    <tr>\n",
       "      <th>tertiary</th>\n",
       "      <td>174</td>\n",
       "      <td>784</td>\n",
       "      <td>755</td>\n",
       "    </tr>\n",
       "  </tbody>\n",
       "</table>\n",
       "</div>"
      ],
      "text/plain": [
       "marital    divorced  married  single\n",
       "education                           \n",
       "primary          96      339      82\n",
       "secondary       283     1289     879\n",
       "tertiary        174      784     755"
      ]
     },
     "execution_count": 41,
     "metadata": {},
     "output_type": "execute_result"
    }
   ],
   "source": [
    "df_yes=df[df['deposit']=='yes']\n",
    "df_no=df[df['deposit']=='no']\n",
    "pd.crosstab(df_yes.education, df_yes.marital)\n"
   ]
  },
  {
   "cell_type": "code",
   "execution_count": 42,
   "id": "22e630f2",
   "metadata": {},
   "outputs": [
    {
     "data": {
      "text/html": [
       "<div>\n",
       "<style scoped>\n",
       "    .dataframe tbody tr th:only-of-type {\n",
       "        vertical-align: middle;\n",
       "    }\n",
       "\n",
       "    .dataframe tbody tr th {\n",
       "        vertical-align: top;\n",
       "    }\n",
       "\n",
       "    .dataframe thead th {\n",
       "        text-align: right;\n",
       "    }\n",
       "</style>\n",
       "<table border=\"1\" class=\"dataframe\">\n",
       "  <thead>\n",
       "    <tr style=\"text-align: right;\">\n",
       "      <th>marital</th>\n",
       "      <th>divorced</th>\n",
       "      <th>married</th>\n",
       "      <th>single</th>\n",
       "    </tr>\n",
       "    <tr>\n",
       "      <th>education</th>\n",
       "      <th></th>\n",
       "      <th></th>\n",
       "      <th></th>\n",
       "    </tr>\n",
       "  </thead>\n",
       "  <tbody>\n",
       "    <tr>\n",
       "      <th>primary</th>\n",
       "      <td>91</td>\n",
       "      <td>641</td>\n",
       "      <td>100</td>\n",
       "    </tr>\n",
       "    <tr>\n",
       "      <th>secondary</th>\n",
       "      <td>370</td>\n",
       "      <td>1830</td>\n",
       "      <td>866</td>\n",
       "    </tr>\n",
       "    <tr>\n",
       "      <th>tertiary</th>\n",
       "      <td>163</td>\n",
       "      <td>832</td>\n",
       "      <td>531</td>\n",
       "    </tr>\n",
       "  </tbody>\n",
       "</table>\n",
       "</div>"
      ],
      "text/plain": [
       "marital    divorced  married  single\n",
       "education                           \n",
       "primary          91      641     100\n",
       "secondary       370     1830     866\n",
       "tertiary        163      832     531"
      ]
     },
     "execution_count": 42,
     "metadata": {},
     "output_type": "execute_result"
    }
   ],
   "source": [
    "pd.crosstab(df_no.education, df_no.marital)"
   ]
  },
  {
   "cell_type": "markdown",
   "id": "dfd805c0",
   "metadata": {},
   "source": [
    "## Часть 3: преобразование данных"
   ]
  },
  {
   "cell_type": "markdown",
   "id": "e44e715b",
   "metadata": {},
   "source": [
    "### Закодируем признаки образования и возраста"
   ]
  },
  {
   "cell_type": "code",
   "execution_count": 43,
   "id": "1e815773",
   "metadata": {},
   "outputs": [],
   "source": [
    "lab_enc = LabelEncoder()\n",
    "\n",
    "df['education'] = lab_enc.fit_transform(df['education'])\n",
    "df['age_group'] = lab_enc.fit_transform(df['age_group'])"
   ]
  },
  {
   "cell_type": "markdown",
   "id": "8c93e73d",
   "metadata": {},
   "source": [
    "### Закодируем бинарные переменные"
   ]
  },
  {
   "cell_type": "code",
   "execution_count": 44,
   "id": "2bffbe79",
   "metadata": {},
   "outputs": [],
   "source": [
    "df.deposit = df.deposit.apply(lambda x: 1 if x == 'yes' else 0)\n",
    "df.default = df.default.apply(lambda x: 1 if x == 'yes' else 0)\n",
    "df.housing = df.housing.apply(lambda x: 1 if x == 'yes' else 0)\n",
    "df.loan = df.loan.apply(lambda x: 1 if x == 'yes' else 0)"
   ]
  },
  {
   "cell_type": "markdown",
   "id": "c40dc02a",
   "metadata": {},
   "source": [
    "### Преобразуем номинальные переменные"
   ]
  },
  {
   "cell_type": "code",
   "execution_count": 45,
   "id": "b996883f",
   "metadata": {},
   "outputs": [
    {
     "data": {
      "text/plain": [
       "(10105, 46)"
      ]
     },
     "execution_count": 45,
     "metadata": {},
     "output_type": "execute_result"
    }
   ],
   "source": [
    "df = pd.get_dummies(df, columns=['job', 'marital', 'contact', 'month', 'poutcome'])\n",
    "df.shape"
   ]
  },
  {
   "cell_type": "markdown",
   "id": "9a23e318",
   "metadata": {},
   "source": [
    "### Выявим признаки, в наибольшей степени коррелирующие с целевой переменной"
   ]
  },
  {
   "cell_type": "code",
   "execution_count": 46,
   "id": "1c884c1a",
   "metadata": {},
   "outputs": [
    {
     "data": {
      "image/png": "[encoded data removed]",
      "text/plain": [
       "<Figure size 640x480 with 1 Axes>"
      ]
     },
     "metadata": {},
     "output_type": "display_data"
    }
   ],
   "source": [
    "corr = df.corr()\n",
    "\n",
    "corr[\"deposit\"].apply(lambda x: abs(x)).sort_values()[-5:-1].plot.barh()\n",
    "plt.title(\"Correlation with deposit\", fontsize = 16)\n",
    "plt.show()"
   ]
  },
  {
   "cell_type": "markdown",
   "id": "9599ec99",
   "metadata": {},
   "source": [
    "Мультиколлинеарность отсутствует"
   ]
  },
  {
   "cell_type": "markdown",
   "id": "b5b4c1a5",
   "metadata": {},
   "source": [
    "### Определим целевую переменную, разделим выборку на обучающую и тестовую"
   ]
  },
  {
   "cell_type": "code",
   "execution_count": 47,
   "id": "79f3e432",
   "metadata": {},
   "outputs": [],
   "source": [
    "X = df.drop(['deposit'], axis=1)\n",
    "y = df['deposit']\n",
    " \n",
    "X_train, X_test, y_train, y_test = train_test_split(X, y, stratify=y, random_state = 42, test_size = 0.33)"
   ]
  },
  {
   "cell_type": "code",
   "execution_count": 48,
   "id": "e3a097a4",
   "metadata": {},
   "outputs": [
    {
     "data": {
      "text/plain": [
       "(3335, 45)"
      ]
     },
     "execution_count": 48,
     "metadata": {},
     "output_type": "execute_result"
    }
   ],
   "source": [
    "X_test.shape"
   ]
  },
  {
   "cell_type": "code",
   "execution_count": 49,
   "id": "99495516",
   "metadata": {},
   "outputs": [
    {
     "data": {
      "text/plain": [
       "0.46"
      ]
     },
     "execution_count": 49,
     "metadata": {},
     "output_type": "execute_result"
    }
   ],
   "source": [
    "round(y_test.mean(), 2)"
   ]
  },
  {
   "cell_type": "markdown",
   "id": "2e381a4f",
   "metadata": {},
   "source": [
    "### Отберём 15 признаков, которые сильнее всего связаны с целевой переменной и точно будут вносить вклад в повышение качества модели"
   ]
  },
  {
   "cell_type": "code",
   "execution_count": 50,
   "id": "0f6e03e0",
   "metadata": {},
   "outputs": [],
   "source": [
    "from numpy import array \n",
    "\n",
    "skb = SelectKBest(k=15)\n",
    "z = skb.fit_transform(X_train, y_train)\n",
    "features = skb.get_support()"
   ]
  },
  {
   "cell_type": "code",
   "execution_count": 51,
   "id": "cfbc0bd5",
   "metadata": {},
   "outputs": [
    {
     "data": {
      "text/html": [
       "<div>\n",
       "<style scoped>\n",
       "    .dataframe tbody tr th:only-of-type {\n",
       "        vertical-align: middle;\n",
       "    }\n",
       "\n",
       "    .dataframe tbody tr th {\n",
       "        vertical-align: top;\n",
       "    }\n",
       "\n",
       "    .dataframe thead th {\n",
       "        text-align: right;\n",
       "    }\n",
       "</style>\n",
       "<table border=\"1\" class=\"dataframe\">\n",
       "  <thead>\n",
       "    <tr style=\"text-align: right;\">\n",
       "      <th></th>\n",
       "      <th>balance</th>\n",
       "      <th>housing</th>\n",
       "      <th>duration</th>\n",
       "      <th>campaign</th>\n",
       "      <th>pdays</th>\n",
       "      <th>previous</th>\n",
       "      <th>age_group</th>\n",
       "      <th>contact_cellular</th>\n",
       "      <th>contact_unknown</th>\n",
       "      <th>month_mar</th>\n",
       "      <th>month_may</th>\n",
       "      <th>month_oct</th>\n",
       "      <th>month_sep</th>\n",
       "      <th>poutcome_success</th>\n",
       "      <th>poutcome_unknown</th>\n",
       "    </tr>\n",
       "  </thead>\n",
       "  <tbody>\n",
       "    <tr>\n",
       "      <th>7287</th>\n",
       "      <td>557.0</td>\n",
       "      <td>1</td>\n",
       "      <td>513</td>\n",
       "      <td>1</td>\n",
       "      <td>-1</td>\n",
       "      <td>0</td>\n",
       "      <td>0</td>\n",
       "      <td>1</td>\n",
       "      <td>0</td>\n",
       "      <td>0</td>\n",
       "      <td>0</td>\n",
       "      <td>0</td>\n",
       "      <td>0</td>\n",
       "      <td>0</td>\n",
       "      <td>1</td>\n",
       "    </tr>\n",
       "    <tr>\n",
       "      <th>4766</th>\n",
       "      <td>69.0</td>\n",
       "      <td>0</td>\n",
       "      <td>296</td>\n",
       "      <td>1</td>\n",
       "      <td>205</td>\n",
       "      <td>2</td>\n",
       "      <td>0</td>\n",
       "      <td>1</td>\n",
       "      <td>0</td>\n",
       "      <td>0</td>\n",
       "      <td>0</td>\n",
       "      <td>0</td>\n",
       "      <td>0</td>\n",
       "      <td>0</td>\n",
       "      <td>0</td>\n",
       "    </tr>\n",
       "    <tr>\n",
       "      <th>5712</th>\n",
       "      <td>0.0</td>\n",
       "      <td>1</td>\n",
       "      <td>399</td>\n",
       "      <td>2</td>\n",
       "      <td>358</td>\n",
       "      <td>5</td>\n",
       "      <td>0</td>\n",
       "      <td>0</td>\n",
       "      <td>0</td>\n",
       "      <td>0</td>\n",
       "      <td>1</td>\n",
       "      <td>0</td>\n",
       "      <td>0</td>\n",
       "      <td>0</td>\n",
       "      <td>0</td>\n",
       "    </tr>\n",
       "    <tr>\n",
       "      <th>2530</th>\n",
       "      <td>444.0</td>\n",
       "      <td>0</td>\n",
       "      <td>137</td>\n",
       "      <td>1</td>\n",
       "      <td>102</td>\n",
       "      <td>5</td>\n",
       "      <td>0</td>\n",
       "      <td>1</td>\n",
       "      <td>0</td>\n",
       "      <td>0</td>\n",
       "      <td>0</td>\n",
       "      <td>0</td>\n",
       "      <td>0</td>\n",
       "      <td>1</td>\n",
       "      <td>0</td>\n",
       "    </tr>\n",
       "    <tr>\n",
       "      <th>9294</th>\n",
       "      <td>1444.0</td>\n",
       "      <td>0</td>\n",
       "      <td>100</td>\n",
       "      <td>1</td>\n",
       "      <td>117</td>\n",
       "      <td>8</td>\n",
       "      <td>0</td>\n",
       "      <td>1</td>\n",
       "      <td>0</td>\n",
       "      <td>0</td>\n",
       "      <td>0</td>\n",
       "      <td>0</td>\n",
       "      <td>0</td>\n",
       "      <td>1</td>\n",
       "      <td>0</td>\n",
       "    </tr>\n",
       "    <tr>\n",
       "      <th>...</th>\n",
       "      <td>...</td>\n",
       "      <td>...</td>\n",
       "      <td>...</td>\n",
       "      <td>...</td>\n",
       "      <td>...</td>\n",
       "      <td>...</td>\n",
       "      <td>...</td>\n",
       "      <td>...</td>\n",
       "      <td>...</td>\n",
       "      <td>...</td>\n",
       "      <td>...</td>\n",
       "      <td>...</td>\n",
       "      <td>...</td>\n",
       "      <td>...</td>\n",
       "      <td>...</td>\n",
       "    </tr>\n",
       "    <tr>\n",
       "      <th>7382</th>\n",
       "      <td>222.0</td>\n",
       "      <td>0</td>\n",
       "      <td>111</td>\n",
       "      <td>1</td>\n",
       "      <td>204</td>\n",
       "      <td>2</td>\n",
       "      <td>4</td>\n",
       "      <td>1</td>\n",
       "      <td>0</td>\n",
       "      <td>0</td>\n",
       "      <td>0</td>\n",
       "      <td>0</td>\n",
       "      <td>0</td>\n",
       "      <td>0</td>\n",
       "      <td>0</td>\n",
       "    </tr>\n",
       "    <tr>\n",
       "      <th>1056</th>\n",
       "      <td>1777.0</td>\n",
       "      <td>1</td>\n",
       "      <td>796</td>\n",
       "      <td>5</td>\n",
       "      <td>154</td>\n",
       "      <td>1</td>\n",
       "      <td>2</td>\n",
       "      <td>1</td>\n",
       "      <td>0</td>\n",
       "      <td>0</td>\n",
       "      <td>0</td>\n",
       "      <td>0</td>\n",
       "      <td>0</td>\n",
       "      <td>0</td>\n",
       "      <td>0</td>\n",
       "    </tr>\n",
       "    <tr>\n",
       "      <th>2931</th>\n",
       "      <td>3324.0</td>\n",
       "      <td>0</td>\n",
       "      <td>122</td>\n",
       "      <td>1</td>\n",
       "      <td>92</td>\n",
       "      <td>3</td>\n",
       "      <td>3</td>\n",
       "      <td>1</td>\n",
       "      <td>0</td>\n",
       "      <td>0</td>\n",
       "      <td>0</td>\n",
       "      <td>0</td>\n",
       "      <td>0</td>\n",
       "      <td>1</td>\n",
       "      <td>0</td>\n",
       "    </tr>\n",
       "    <tr>\n",
       "      <th>7735</th>\n",
       "      <td>209.0</td>\n",
       "      <td>0</td>\n",
       "      <td>605</td>\n",
       "      <td>2</td>\n",
       "      <td>-1</td>\n",
       "      <td>0</td>\n",
       "      <td>4</td>\n",
       "      <td>1</td>\n",
       "      <td>0</td>\n",
       "      <td>0</td>\n",
       "      <td>0</td>\n",
       "      <td>0</td>\n",
       "      <td>0</td>\n",
       "      <td>0</td>\n",
       "      <td>1</td>\n",
       "    </tr>\n",
       "    <tr>\n",
       "      <th>4966</th>\n",
       "      <td>168.0</td>\n",
       "      <td>0</td>\n",
       "      <td>394</td>\n",
       "      <td>1</td>\n",
       "      <td>-1</td>\n",
       "      <td>0</td>\n",
       "      <td>4</td>\n",
       "      <td>1</td>\n",
       "      <td>0</td>\n",
       "      <td>0</td>\n",
       "      <td>0</td>\n",
       "      <td>0</td>\n",
       "      <td>0</td>\n",
       "      <td>0</td>\n",
       "      <td>1</td>\n",
       "    </tr>\n",
       "  </tbody>\n",
       "</table>\n",
       "<p>6770 rows × 15 columns</p>\n",
       "</div>"
      ],
      "text/plain": [
       "      balance  housing  duration  campaign  pdays  previous  age_group  \\\n",
       "7287    557.0        1       513         1     -1         0          0   \n",
       "4766     69.0        0       296         1    205         2          0   \n",
       "5712      0.0        1       399         2    358         5          0   \n",
       "2530    444.0        0       137         1    102         5          0   \n",
       "9294   1444.0        0       100         1    117         8          0   \n",
       "...       ...      ...       ...       ...    ...       ...        ...   \n",
       "7382    222.0        0       111         1    204         2          4   \n",
       "1056   1777.0        1       796         5    154         1          2   \n",
       "2931   3324.0        0       122         1     92         3          3   \n",
       "7735    209.0        0       605         2     -1         0          4   \n",
       "4966    168.0        0       394         1     -1         0          4   \n",
       "\n",
       "      contact_cellular  contact_unknown  month_mar  month_may  month_oct  \\\n",
       "7287                 1                0          0          0          0   \n",
       "4766                 1                0          0          0          0   \n",
       "5712                 0                0          0          1          0   \n",
       "2530                 1                0          0          0          0   \n",
       "9294                 1                0          0          0          0   \n",
       "...                ...              ...        ...        ...        ...   \n",
       "7382                 1                0          0          0          0   \n",
       "1056                 1                0          0          0          0   \n",
       "2931                 1                0          0          0          0   \n",
       "7735                 1                0          0          0          0   \n",
       "4966                 1                0          0          0          0   \n",
       "\n",
       "      month_sep  poutcome_success  poutcome_unknown  \n",
       "7287          0                 0                 1  \n",
       "4766          0                 0                 0  \n",
       "5712          0                 0                 0  \n",
       "2530          0                 1                 0  \n",
       "9294          0                 1                 0  \n",
       "...         ...               ...               ...  \n",
       "7382          0                 0                 0  \n",
       "1056          0                 0                 0  \n",
       "2931          0                 1                 0  \n",
       "7735          0                 0                 1  \n",
       "4966          0                 0                 1  \n",
       "\n",
       "[6770 rows x 15 columns]"
      ]
     },
     "execution_count": 51,
     "metadata": {},
     "output_type": "execute_result"
    }
   ],
   "source": [
    "X_train_new = X_train.iloc[:, skb.get_support()]\n",
    "X_train_new"
   ]
  },
  {
   "cell_type": "code",
   "execution_count": 52,
   "id": "43c223a6",
   "metadata": {},
   "outputs": [],
   "source": [
    "X_test_new = X_test.iloc[:, skb.get_support()]"
   ]
  },
  {
   "cell_type": "markdown",
   "id": "60132ef3",
   "metadata": {},
   "source": [
    "### Нормализуем данные"
   ]
  },
  {
   "cell_type": "code",
   "execution_count": 53,
   "id": "e91b06f3",
   "metadata": {},
   "outputs": [
    {
     "name": "stdout",
     "output_type": "stream",
     "text": [
      "0.46823674223097866\n"
     ]
    }
   ],
   "source": [
    "scaler = preprocessing.MinMaxScaler()\n",
    "scaler.fit(X_train_new)                           \n",
    "X_train_scaled = scaler.transform(X_train_new)    \n",
    "X_test_scaled = scaler.transform(X_test_new)      \n",
    "\n",
    "print(X_test_scaled[:, 0].mean())  "
   ]
  },
  {
   "cell_type": "markdown",
   "id": "0894c632",
   "metadata": {},
   "source": [
    "# Часть 4: Решение задачи классификации: логистическая регрессия и решающие деревья"
   ]
  },
  {
   "cell_type": "markdown",
   "id": "41b8ff06",
   "metadata": {},
   "source": [
    "### Реализуем логистическую регрессию"
   ]
  },
  {
   "cell_type": "code",
   "execution_count": 54,
   "id": "8acc0166",
   "metadata": {},
   "outputs": [
    {
     "data": {
      "text/html": [
       "<style>#sk-container-id-1 {color: black;background-color: white;}#sk-container-id-1 pre{padding: 0;}#sk-container-id-1 div.sk-toggleable {background-color: white;}#sk-container-id-1 label.sk-toggleable__label {cursor: pointer;display: block;width: 100%;margin-bottom: 0;padding: 0.3em;box-sizing: border-box;text-align: center;}#sk-container-id-1 label.sk-toggleable__label-arrow:before {content: \"▸\";float: left;margin-right: 0.25em;color: #696969;}#sk-container-id-1 label.sk-toggleable__label-arrow:hover:before {color: black;}#sk-container-id-1 div.sk-estimator:hover label.sk-toggleable__label-arrow:before {color: black;}#sk-container-id-1 div.sk-toggleable__content {max-height: 0;max-width: 0;overflow: hidden;text-align: left;background-color: #f0f8ff;}#sk-container-id-1 div.sk-toggleable__content pre {margin: 0.2em;color: black;border-radius: 0.25em;background-color: #f0f8ff;}#sk-container-id-1 input.sk-toggleable__control:checked~div.sk-toggleable__content {max-height: 200px;max-width: 100%;overflow: auto;}#sk-container-id-1 input.sk-toggleable__control:checked~label.sk-toggleable__label-arrow:before {content: \"▾\";}#sk-container-id-1 div.sk-estimator input.sk-toggleable__control:checked~label.sk-toggleable__label {background-color: #d4ebff;}#sk-container-id-1 div.sk-label input.sk-toggleable__control:checked~label.sk-toggleable__label {background-color: #d4ebff;}#sk-container-id-1 input.sk-hidden--visually {border: 0;clip: rect(1px 1px 1px 1px);clip: rect(1px, 1px, 1px, 1px);height: 1px;margin: -1px;overflow: hidden;padding: 0;position: absolute;width: 1px;}#sk-container-id-1 div.sk-estimator {font-family: monospace;background-color: #f0f8ff;border: 1px dotted black;border-radius: 0.25em;box-sizing: border-box;margin-bottom: 0.5em;}#sk-container-id-1 div.sk-estimator:hover {background-color: #d4ebff;}#sk-container-id-1 div.sk-parallel-item::after {content: \"\";width: 100%;border-bottom: 1px solid gray;flex-grow: 1;}#sk-container-id-1 div.sk-label:hover label.sk-toggleable__label {background-color: #d4ebff;}#sk-container-id-1 div.sk-serial::before {content: \"\";position: absolute;border-left: 1px solid gray;box-sizing: border-box;top: 0;bottom: 0;left: 50%;z-index: 0;}#sk-container-id-1 div.sk-serial {display: flex;flex-direction: column;align-items: center;background-color: white;padding-right: 0.2em;padding-left: 0.2em;position: relative;}#sk-container-id-1 div.sk-item {position: relative;z-index: 1;}#sk-container-id-1 div.sk-parallel {display: flex;align-items: stretch;justify-content: center;background-color: white;position: relative;}#sk-container-id-1 div.sk-item::before, #sk-container-id-1 div.sk-parallel-item::before {content: \"\";position: absolute;border-left: 1px solid gray;box-sizing: border-box;top: 0;bottom: 0;left: 50%;z-index: -1;}#sk-container-id-1 div.sk-parallel-item {display: flex;flex-direction: column;z-index: 1;position: relative;background-color: white;}#sk-container-id-1 div.sk-parallel-item:first-child::after {align-self: flex-end;width: 50%;}#sk-container-id-1 div.sk-parallel-item:last-child::after {align-self: flex-start;width: 50%;}#sk-container-id-1 div.sk-parallel-item:only-child::after {width: 0;}#sk-container-id-1 div.sk-dashed-wrapped {border: 1px dashed gray;margin: 0 0.4em 0.5em 0.4em;box-sizing: border-box;padding-bottom: 0.4em;background-color: white;}#sk-container-id-1 div.sk-label label {font-family: monospace;font-weight: bold;display: inline-block;line-height: 1.2em;}#sk-container-id-1 div.sk-label-container {text-align: center;}#sk-container-id-1 div.sk-container {/* jupyter's `normalize.less` sets `[hidden] { display: none; }` but bootstrap.min.css set `[hidden] { display: none !important; }` so we also need the `!important` here to be able to override the default hidden behavior on the sphinx rendered scikit-learn.org. See: https://github.com/scikit-learn/scikit-learn/issues/21755 */display: inline-block !important;position: relative;}#sk-container-id-1 div.sk-text-repr-fallback {display: none;}</style><div id=\"sk-container-id-1\" class=\"sk-top-container\"><div class=\"sk-text-repr-fallback\"><pre>LogisticRegression(max_iter=1000, random_state=42, solver=&#x27;sag&#x27;)</pre><b>In a Jupyter environment, please rerun this cell to show the HTML representation or trust the notebook. <br />On GitHub, the HTML representation is unable to render, please try loading this page with nbviewer.org.</b></div><div class=\"sk-container\" hidden><div class=\"sk-item\"><div class=\"sk-estimator sk-toggleable\"><input class=\"sk-toggleable__control sk-hidden--visually\" id=\"sk-estimator-id-1\" type=\"checkbox\" checked><label for=\"sk-estimator-id-1\" class=\"sk-toggleable__label sk-toggleable__label-arrow\">LogisticRegression</label><div class=\"sk-toggleable__content\"><pre>LogisticRegression(max_iter=1000, random_state=42, solver=&#x27;sag&#x27;)</pre></div></div></div></div></div>"
      ],
      "text/plain": [
       "LogisticRegression(max_iter=1000, random_state=42, solver='sag')"
      ]
     },
     "execution_count": 54,
     "metadata": {},
     "output_type": "execute_result"
    }
   ],
   "source": [
    "log_reg = linear_model.LogisticRegression(\n",
    "    solver='sag', \n",
    "    random_state=42, \n",
    "    max_iter=1000 )\n",
    "\n",
    "log_reg.fit(X_train_scaled, y_train)"
   ]
  },
  {
   "cell_type": "code",
   "execution_count": 55,
   "id": "9491f5c4",
   "metadata": {},
   "outputs": [
    {
     "name": "stdout",
     "output_type": "stream",
     "text": [
      "0.81\n"
     ]
    }
   ],
   "source": [
    "y_pred = log_reg.predict(X_test_scaled)\n",
    "from sklearn.metrics import accuracy_score\n",
    "print(accuracy_score(y_test, y_pred).round(2))"
   ]
  },
  {
   "cell_type": "markdown",
   "id": "29b7e0ba",
   "metadata": {},
   "source": [
    "### Реализуем также решающие деревья"
   ]
  },
  {
   "cell_type": "code",
   "execution_count": 56,
   "id": "c91a588b",
   "metadata": {},
   "outputs": [
    {
     "name": "stdout",
     "output_type": "stream",
     "text": [
      "1.0\n",
      "0.75\n"
     ]
    }
   ],
   "source": [
    "dt = tree.DecisionTreeClassifier(\n",
    "    criterion='entropy',\n",
    "    random_state=42,\n",
    ")\n",
    "\n",
    "dt.fit(X_train_scaled, y_train)\n",
    "\n",
    "y_train_pred = dt.predict(X_train_scaled)\n",
    "y_pred = dt.predict(X_test_scaled)\n",
    "print(accuracy_score(y_train, y_train_pred).round(2))\n",
    "print(accuracy_score(y_test, y_pred).round(2))"
   ]
  },
  {
   "cell_type": "markdown",
   "id": "d4065768",
   "metadata": {},
   "source": [
    "Видим переобучение"
   ]
  },
  {
   "cell_type": "code",
   "execution_count": 57,
   "id": "1c426927",
   "metadata": {},
   "outputs": [
    {
     "name": "stdout",
     "output_type": "stream",
     "text": [
      "0.82\n",
      "0.81\n"
     ]
    }
   ],
   "source": [
    "dt = tree.DecisionTreeClassifier(\n",
    "    criterion='entropy',\n",
    "    random_state=42,\n",
    "    max_depth = 6\n",
    ")\n",
    "\n",
    "dt.fit(X_train_scaled, y_train)\n",
    "\n",
    "y_train_pred = dt.predict(X_train_scaled)\n",
    "y_pred = dt.predict(X_test_scaled)\n",
    "print(accuracy_score(y_train, y_train_pred).round(2))\n",
    "print(accuracy_score(y_test, y_pred).round(2))"
   ]
  },
  {
   "cell_type": "markdown",
   "id": "2c3d8fec",
   "metadata": {},
   "source": [
    "Случайным подбором нахождим оптимальную max_depth, при которой нет переобучения и недообучения"
   ]
  },
  {
   "cell_type": "markdown",
   "id": "fe823c18",
   "metadata": {},
   "source": [
    "### Попробуем реализовать оптимизацию гиперпараметров"
   ]
  },
  {
   "cell_type": "code",
   "execution_count": 58,
   "id": "63574943",
   "metadata": {},
   "outputs": [
    {
     "data": {
      "text/html": [
       "<style>#sk-container-id-2 {color: black;background-color: white;}#sk-container-id-2 pre{padding: 0;}#sk-container-id-2 div.sk-toggleable {background-color: white;}#sk-container-id-2 label.sk-toggleable__label {cursor: pointer;display: block;width: 100%;margin-bottom: 0;padding: 0.3em;box-sizing: border-box;text-align: center;}#sk-container-id-2 label.sk-toggleable__label-arrow:before {content: \"▸\";float: left;margin-right: 0.25em;color: #696969;}#sk-container-id-2 label.sk-toggleable__label-arrow:hover:before {color: black;}#sk-container-id-2 div.sk-estimator:hover label.sk-toggleable__label-arrow:before {color: black;}#sk-container-id-2 div.sk-toggleable__content {max-height: 0;max-width: 0;overflow: hidden;text-align: left;background-color: #f0f8ff;}#sk-container-id-2 div.sk-toggleable__content pre {margin: 0.2em;color: black;border-radius: 0.25em;background-color: #f0f8ff;}#sk-container-id-2 input.sk-toggleable__control:checked~div.sk-toggleable__content {max-height: 200px;max-width: 100%;overflow: auto;}#sk-container-id-2 input.sk-toggleable__control:checked~label.sk-toggleable__label-arrow:before {content: \"▾\";}#sk-container-id-2 div.sk-estimator input.sk-toggleable__control:checked~label.sk-toggleable__label {background-color: #d4ebff;}#sk-container-id-2 div.sk-label input.sk-toggleable__control:checked~label.sk-toggleable__label {background-color: #d4ebff;}#sk-container-id-2 input.sk-hidden--visually {border: 0;clip: rect(1px 1px 1px 1px);clip: rect(1px, 1px, 1px, 1px);height: 1px;margin: -1px;overflow: hidden;padding: 0;position: absolute;width: 1px;}#sk-container-id-2 div.sk-estimator {font-family: monospace;background-color: #f0f8ff;border: 1px dotted black;border-radius: 0.25em;box-sizing: border-box;margin-bottom: 0.5em;}#sk-container-id-2 div.sk-estimator:hover {background-color: #d4ebff;}#sk-container-id-2 div.sk-parallel-item::after {content: \"\";width: 100%;border-bottom: 1px solid gray;flex-grow: 1;}#sk-container-id-2 div.sk-label:hover label.sk-toggleable__label {background-color: #d4ebff;}#sk-container-id-2 div.sk-serial::before {content: \"\";position: absolute;border-left: 1px solid gray;box-sizing: border-box;top: 0;bottom: 0;left: 50%;z-index: 0;}#sk-container-id-2 div.sk-serial {display: flex;flex-direction: column;align-items: center;background-color: white;padding-right: 0.2em;padding-left: 0.2em;position: relative;}#sk-container-id-2 div.sk-item {position: relative;z-index: 1;}#sk-container-id-2 div.sk-parallel {display: flex;align-items: stretch;justify-content: center;background-color: white;position: relative;}#sk-container-id-2 div.sk-item::before, #sk-container-id-2 div.sk-parallel-item::before {content: \"\";position: absolute;border-left: 1px solid gray;box-sizing: border-box;top: 0;bottom: 0;left: 50%;z-index: -1;}#sk-container-id-2 div.sk-parallel-item {display: flex;flex-direction: column;z-index: 1;position: relative;background-color: white;}#sk-container-id-2 div.sk-parallel-item:first-child::after {align-self: flex-end;width: 50%;}#sk-container-id-2 div.sk-parallel-item:last-child::after {align-self: flex-start;width: 50%;}#sk-container-id-2 div.sk-parallel-item:only-child::after {width: 0;}#sk-container-id-2 div.sk-dashed-wrapped {border: 1px dashed gray;margin: 0 0.4em 0.5em 0.4em;box-sizing: border-box;padding-bottom: 0.4em;background-color: white;}#sk-container-id-2 div.sk-label label {font-family: monospace;font-weight: bold;display: inline-block;line-height: 1.2em;}#sk-container-id-2 div.sk-label-container {text-align: center;}#sk-container-id-2 div.sk-container {/* jupyter's `normalize.less` sets `[hidden] { display: none; }` but bootstrap.min.css set `[hidden] { display: none !important; }` so we also need the `!important` here to be able to override the default hidden behavior on the sphinx rendered scikit-learn.org. See: https://github.com/scikit-learn/scikit-learn/issues/21755 */display: inline-block !important;position: relative;}#sk-container-id-2 div.sk-text-repr-fallback {display: none;}</style><div id=\"sk-container-id-2\" class=\"sk-top-container\"><div class=\"sk-text-repr-fallback\"><pre>GridSearchCV(estimator=DecisionTreeClassifier(),\n",
       "             param_grid={&#x27;max_depth&#x27;: [3, 5, 7],\n",
       "                         &#x27;min_samples_split&#x27;: [2, 5, 7, 10]},\n",
       "             return_train_score=True, scoring=&#x27;f1&#x27;)</pre><b>In a Jupyter environment, please rerun this cell to show the HTML representation or trust the notebook. <br />On GitHub, the HTML representation is unable to render, please try loading this page with nbviewer.org.</b></div><div class=\"sk-container\" hidden><div class=\"sk-item sk-dashed-wrapped\"><div class=\"sk-label-container\"><div class=\"sk-label sk-toggleable\"><input class=\"sk-toggleable__control sk-hidden--visually\" id=\"sk-estimator-id-2\" type=\"checkbox\" ><label for=\"sk-estimator-id-2\" class=\"sk-toggleable__label sk-toggleable__label-arrow\">GridSearchCV</label><div class=\"sk-toggleable__content\"><pre>GridSearchCV(estimator=DecisionTreeClassifier(),\n",
       "             param_grid={&#x27;max_depth&#x27;: [3, 5, 7],\n",
       "                         &#x27;min_samples_split&#x27;: [2, 5, 7, 10]},\n",
       "             return_train_score=True, scoring=&#x27;f1&#x27;)</pre></div></div></div><div class=\"sk-parallel\"><div class=\"sk-parallel-item\"><div class=\"sk-item\"><div class=\"sk-label-container\"><div class=\"sk-label sk-toggleable\"><input class=\"sk-toggleable__control sk-hidden--visually\" id=\"sk-estimator-id-3\" type=\"checkbox\" ><label for=\"sk-estimator-id-3\" class=\"sk-toggleable__label sk-toggleable__label-arrow\">estimator: DecisionTreeClassifier</label><div class=\"sk-toggleable__content\"><pre>DecisionTreeClassifier()</pre></div></div></div><div class=\"sk-serial\"><div class=\"sk-item\"><div class=\"sk-estimator sk-toggleable\"><input class=\"sk-toggleable__control sk-hidden--visually\" id=\"sk-estimator-id-4\" type=\"checkbox\" ><label for=\"sk-estimator-id-4\" class=\"sk-toggleable__label sk-toggleable__label-arrow\">DecisionTreeClassifier</label><div class=\"sk-toggleable__content\"><pre>DecisionTreeClassifier()</pre></div></div></div></div></div></div></div></div></div></div>"
      ],
      "text/plain": [
       "GridSearchCV(estimator=DecisionTreeClassifier(),\n",
       "             param_grid={'max_depth': [3, 5, 7],\n",
       "                         'min_samples_split': [2, 5, 7, 10]},\n",
       "             return_train_score=True, scoring='f1')"
      ]
     },
     "execution_count": 58,
     "metadata": {},
     "output_type": "execute_result"
    }
   ],
   "source": [
    "from sklearn.model_selection import GridSearchCV\n",
    "\n",
    "parameters =  {'min_samples_split': [2, 5, 7, 10], 'max_depth':[3,5,7]}\n",
    "\n",
    "model_cv = GridSearchCV(tree.DecisionTreeClassifier(), \n",
    "                        parameters,\n",
    "                        scoring=('f1'), \n",
    "                        return_train_score=True)\n",
    "\n",
    "model_cv.fit(X_train_scaled, y_train)"
   ]
  },
  {
   "cell_type": "code",
   "execution_count": 59,
   "id": "36ac50b5",
   "metadata": {},
   "outputs": [
    {
     "name": "stdout",
     "output_type": "stream",
     "text": [
      "0.8\n"
     ]
    }
   ],
   "source": [
    "from sklearn.metrics import f1_score\n",
    "\n",
    "y_pred = model_cv.predict(X_test_scaled)\n",
    "print(f1_score(y_test, y_pred).round(2))"
   ]
  },
  {
   "cell_type": "markdown",
   "id": "ed0fc831",
   "metadata": {},
   "source": [
    "# Часть 5: Решение задачи классификации: ансамбли моделей и построение прогноза"
   ]
  },
  {
   "cell_type": "markdown",
   "id": "f9e36ff2",
   "metadata": {},
   "source": [
    "### Обучим случайный лес"
   ]
  },
  {
   "cell_type": "code",
   "execution_count": 60,
   "id": "e708e3fe",
   "metadata": {},
   "outputs": [
    {
     "name": "stdout",
     "output_type": "stream",
     "text": [
      "0.83\n",
      "0.83\n"
     ]
    }
   ],
   "source": [
    "from sklearn.metrics import recall_score\n",
    "\n",
    "rf = ensemble.RandomForestClassifier(\n",
    "    n_estimators=100,\n",
    "    criterion='gini',\n",
    "    min_samples_leaf=5,\n",
    "    max_depth=10,\n",
    "    random_state=42\n",
    ")\n",
    "\n",
    "rf.fit(X_train_scaled, y_train)\n",
    "\n",
    "y_pred = rf.predict(X_test_scaled)\n",
    "print(accuracy_score(y_test, y_pred).round(2))\n",
    "print(recall_score(y_test, y_pred).round(2))"
   ]
  },
  {
   "cell_type": "markdown",
   "id": "71d7b13d",
   "metadata": {},
   "source": [
    "### Попробуем реализовать градиентный бустинг"
   ]
  },
  {
   "cell_type": "code",
   "execution_count": 61,
   "id": "99f12dfe",
   "metadata": {},
   "outputs": [
    {
     "name": "stdout",
     "output_type": "stream",
     "text": [
      "0.82\n"
     ]
    }
   ],
   "source": [
    "gb = ensemble.GradientBoostingClassifier(\n",
    "    learning_rate=0.05,\n",
    "    n_estimators=300,\n",
    "    min_samples_leaf=5,\n",
    "    max_depth=5,\n",
    "    random_state=42\n",
    ")\n",
    "gb.fit(X_train_scaled, y_train)\n",
    "\n",
    "y_pred = gb.predict(X_test_scaled)\n",
    "print(f1_score(y_test, y_pred).round(2))"
   ]
  },
  {
   "cell_type": "markdown",
   "id": "19f1028a",
   "metadata": {},
   "source": [
    "\"Случайный лес\" даёт немного более качественный результат"
   ]
  },
  {
   "cell_type": "markdown",
   "id": "b08718ae",
   "metadata": {},
   "source": [
    "### Используем стекинг, объединив применённые ранее модели"
   ]
  },
  {
   "cell_type": "code",
   "execution_count": 62,
   "id": "0bd42fb0",
   "metadata": {},
   "outputs": [
    {
     "name": "stdout",
     "output_type": "stream",
     "text": [
      "0.81\n"
     ]
    }
   ],
   "source": [
    "from sklearn.metrics import precision_score\n",
    "\n",
    "estimators = [\n",
    "    ('dt', tree.DecisionTreeClassifier(\n",
    "        criterion='entropy',\n",
    "        max_depth=6,\n",
    "        random_state=42\n",
    "        )\n",
    "    ),\n",
    "    ('log_reg', linear_model.LogisticRegression(\n",
    "        solver='sag',\n",
    "        random_state=42,\n",
    "        max_iter=1000\n",
    "        )\n",
    "    ),\n",
    "    ('gb', ensemble.GradientBoostingClassifier(\n",
    "        learning_rate=0.05,\n",
    "        n_estimators=300,\n",
    "        min_samples_leaf=5,\n",
    "        max_depth=5,\n",
    "        random_state=42\n",
    "        )\n",
    "    )\n",
    "]\n",
    "\n",
    "stack = ensemble.StackingClassifier(\n",
    "    estimators,\n",
    "    final_estimator=linear_model.LogisticRegression(random_state=42)\n",
    ")\n",
    "stack.fit(X_train_scaled, y_train)\n",
    "\n",
    "y_pred = stack.predict(X_test_scaled)\n",
    "print(precision_score(y_test, y_pred).round(2))"
   ]
  },
  {
   "cell_type": "markdown",
   "id": "6247a5fb",
   "metadata": {},
   "source": [
    "### Выявим 3 признака, дающие наибольший вклад в результат маркетинговой кампании"
   ]
  },
  {
   "cell_type": "code",
   "execution_count": 63,
   "id": "35de769c",
   "metadata": {},
   "outputs": [
    {
     "name": "stdout",
     "output_type": "stream",
     "text": [
      "Index(['duration', 'contact_unknown', 'poutcome_success'], dtype='object')\n"
     ]
    },
    {
     "data": {
      "text/plain": [
       "array([ 6,  3,  1,  9,  2, 12,  4, 13,  1,  5, 11,  7,  8,  1, 10])"
      ]
     },
     "execution_count": 63,
     "metadata": {},
     "output_type": "execute_result"
    }
   ],
   "source": [
    "estimator = ensemble.GradientBoostingClassifier()\n",
    "selector = RFE(estimator, n_features_to_select=3, step=1)\n",
    "selector = selector.fit(X_train_scaled, y_train)\n",
    "\n",
    "print(X_train_new.columns[selector.support_])\n",
    "selector.ranking_"
   ]
  },
  {
   "cell_type": "markdown",
   "id": "96974dda",
   "metadata": {},
   "source": [
    "### Попробуем применить Optuna для оптимизации гиперпараметров"
   ]
  },
  {
   "cell_type": "code",
   "execution_count": 64,
   "id": "c48e29e9",
   "metadata": {},
   "outputs": [],
   "source": [
    "def optuna_rf(trial):\n",
    "  n_estimators = trial.suggest_int('n_estimators', 100, 200, 1)\n",
    "  max_depth = trial.suggest_int('max_depth', 10, 30, 1)\n",
    "  min_samples_leaf = trial.suggest_int('min_samples_leaf', 2, 10, 1)\n",
    "\n",
    "  model = ensemble.RandomForestClassifier(n_estimators=n_estimators,\n",
    "                                          max_depth=max_depth,\n",
    "                                          min_samples_leaf=min_samples_leaf,\n",
    "                                          random_state=42)\n",
    "  model.fit(X_train_scaled, y_train)\n",
    "  score_f1 = metrics.f1_score(y_test, model.predict(X_test_scaled))\n",
    "  score_accuracy = metrics.accuracy_score(y_test, model.predict(X_test_scaled))\n",
    "\n",
    "  return score_f1"
   ]
  },
  {
   "cell_type": "code",
   "execution_count": 65,
   "id": "2aacd479",
   "metadata": {},
   "outputs": [
    {
     "name": "stderr",
     "output_type": "stream",
     "text": [
      "\u001b[32m[I 2023-03-25 13:32:39,712]\u001b[0m A new study created in memory with name: RandomForestClassifier\u001b[0m\n",
      "\u001b[32m[I 2023-03-25 13:32:40,529]\u001b[0m Trial 0 finished with value: 0.8167406467977172 and parameters: {'n_estimators': 104, 'max_depth': 10, 'min_samples_leaf': 3}. Best is trial 0 with value: 0.8167406467977172.\u001b[0m\n",
      "\u001b[32m[I 2023-03-25 13:32:41,817]\u001b[0m Trial 1 finished with value: 0.8178954001260239 and parameters: {'n_estimators': 147, 'max_depth': 30, 'min_samples_leaf': 5}. Best is trial 1 with value: 0.8178954001260239.\u001b[0m\n",
      "\u001b[32m[I 2023-03-25 13:32:43,161]\u001b[0m Trial 2 finished with value: 0.8206094879044926 and parameters: {'n_estimators': 164, 'max_depth': 27, 'min_samples_leaf': 4}. Best is trial 2 with value: 0.8206094879044926.\u001b[0m\n",
      "\u001b[32m[I 2023-03-25 13:32:44,414]\u001b[0m Trial 3 finished with value: 0.8195892575039494 and parameters: {'n_estimators': 161, 'max_depth': 21, 'min_samples_leaf': 6}. Best is trial 2 with value: 0.8206094879044926.\u001b[0m\n",
      "\u001b[32m[I 2023-03-25 13:32:45,666]\u001b[0m Trial 4 finished with value: 0.8160152526215443 and parameters: {'n_estimators': 153, 'max_depth': 11, 'min_samples_leaf': 2}. Best is trial 2 with value: 0.8206094879044926.\u001b[0m\n",
      "\u001b[32m[I 2023-03-25 13:32:46,524]\u001b[0m Trial 5 finished with value: 0.8146031746031746 and parameters: {'n_estimators': 106, 'max_depth': 14, 'min_samples_leaf': 6}. Best is trial 2 with value: 0.8206094879044926.\u001b[0m\n",
      "\u001b[32m[I 2023-03-25 13:32:48,116]\u001b[0m Trial 6 finished with value: 0.8212712397734423 and parameters: {'n_estimators': 178, 'max_depth': 29, 'min_samples_leaf': 3}. Best is trial 6 with value: 0.8212712397734423.\u001b[0m\n",
      "\u001b[32m[I 2023-03-25 13:32:49,363]\u001b[0m Trial 7 finished with value: 0.816403785488959 and parameters: {'n_estimators': 111, 'max_depth': 19, 'min_samples_leaf': 2}. Best is trial 6 with value: 0.8212712397734423.\u001b[0m\n",
      "\u001b[32m[I 2023-03-25 13:32:53,957]\u001b[0m Trial 8 finished with value: 0.817007874015748 and parameters: {'n_estimators': 199, 'max_depth': 26, 'min_samples_leaf': 2}. Best is trial 6 with value: 0.8212712397734423.\u001b[0m\n",
      "\u001b[32m[I 2023-03-25 13:32:55,710]\u001b[0m Trial 9 finished with value: 0.8182389937106916 and parameters: {'n_estimators': 154, 'max_depth': 28, 'min_samples_leaf': 3}. Best is trial 6 with value: 0.8212712397734423.\u001b[0m\n",
      "\u001b[32m[I 2023-03-25 13:32:57,181]\u001b[0m Trial 10 finished with value: 0.815213946117274 and parameters: {'n_estimators': 196, 'max_depth': 22, 'min_samples_leaf': 9}. Best is trial 6 with value: 0.8212712397734423.\u001b[0m\n",
      "\u001b[32m[I 2023-03-25 13:32:58,987]\u001b[0m Trial 11 finished with value: 0.8207221350078492 and parameters: {'n_estimators': 175, 'max_depth': 25, 'min_samples_leaf': 4}. Best is trial 6 with value: 0.8212712397734423.\u001b[0m\n",
      "\u001b[32m[I 2023-03-25 13:33:00,458]\u001b[0m Trial 12 finished with value: 0.816055625790139 and parameters: {'n_estimators': 178, 'max_depth': 24, 'min_samples_leaf': 8}. Best is trial 6 with value: 0.8212712397734423.\u001b[0m\n",
      "\u001b[32m[I 2023-03-25 13:33:02,134]\u001b[0m Trial 13 finished with value: 0.819836785938481 and parameters: {'n_estimators': 179, 'max_depth': 30, 'min_samples_leaf': 4}. Best is trial 6 with value: 0.8212712397734423.\u001b[0m\n",
      "\u001b[32m[I 2023-03-25 13:33:03,335]\u001b[0m Trial 14 finished with value: 0.8195892575039494 and parameters: {'n_estimators': 132, 'max_depth': 18, 'min_samples_leaf': 4}. Best is trial 6 with value: 0.8212712397734423.\u001b[0m\n",
      "\u001b[32m[I 2023-03-25 13:33:04,706]\u001b[0m Trial 15 finished with value: 0.8159392789373815 and parameters: {'n_estimators': 180, 'max_depth': 24, 'min_samples_leaf': 8}. Best is trial 6 with value: 0.8212712397734423.\u001b[0m\n",
      "\u001b[32m[I 2023-03-25 13:33:06,364]\u001b[0m Trial 16 finished with value: 0.8202706956248033 and parameters: {'n_estimators': 188, 'max_depth': 25, 'min_samples_leaf': 5}. Best is trial 6 with value: 0.8212712397734423.\u001b[0m\n",
      "\u001b[32m[I 2023-03-25 13:33:08,231]\u001b[0m Trial 17 finished with value: 0.8200441222817523 and parameters: {'n_estimators': 167, 'max_depth': 16, 'min_samples_leaf': 7}. Best is trial 6 with value: 0.8212712397734423.\u001b[0m\n",
      "\u001b[32m[I 2023-03-25 13:33:09,877]\u001b[0m Trial 18 finished with value: 0.8200125865324104 and parameters: {'n_estimators': 138, 'max_depth': 28, 'min_samples_leaf': 3}. Best is trial 6 with value: 0.8212712397734423.\u001b[0m\n",
      "\u001b[32m[I 2023-03-25 13:33:11,228]\u001b[0m Trial 19 finished with value: 0.8124602670057216 and parameters: {'n_estimators': 171, 'max_depth': 22, 'min_samples_leaf': 10}. Best is trial 6 with value: 0.8212712397734423.\u001b[0m\n"
     ]
    }
   ],
   "source": [
    "study = optuna.create_study(study_name=\"RandomForestClassifier\", direction=\"maximize\")\n",
    "study.optimize(optuna_rf, n_trials=20)"
   ]
  },
  {
   "cell_type": "code",
   "execution_count": 66,
   "id": "9d43dcf6",
   "metadata": {},
   "outputs": [
    {
     "name": "stdout",
     "output_type": "stream",
     "text": [
      "Наилучшие значения гиперпараметров {'n_estimators': 178, 'max_depth': 29, 'min_samples_leaf': 3}\n"
     ]
    }
   ],
   "source": [
    "print(\"Наилучшие значения гиперпараметров {}\".format(study.best_params))"
   ]
  },
  {
   "cell_type": "code",
   "execution_count": 67,
   "id": "747dd6bd",
   "metadata": {},
   "outputs": [
    {
     "name": "stdout",
     "output_type": "stream",
     "text": [
      "f1_score на тестовом наборе: 0.82\n",
      "accuracy_score на тестовом наборе: 0.83\n"
     ]
    }
   ],
   "source": [
    "model = ensemble.RandomForestClassifier(**study.best_params,random_state=42)\n",
    "model.fit(X_train_scaled, y_train)\n",
    "y_pred = model.predict(X_test_scaled)\n",
    "print('f1_score на тестовом наборе: {:.2f}'.format(metrics.f1_score(y_test, y_pred)))\n",
    "print('accuracy_score на тестовом наборе: {:.2f}'.format(metrics.accuracy_score(y_test, y_pred)))"
   ]
  }
 ],
 "metadata": {
  "kernelspec": {
   "display_name": "Python 3.8.10 64-bit",
   "language": "python",
   "name": "python3"
  },
  "language_info": {
   "codemirror_mode": {
    "name": "ipython",
    "version": 3
   },
   "file_extension": ".py",
   "mimetype": "text/x-python",
   "name": "python",
   "nbconvert_exporter": "python",
   "pygments_lexer": "ipython3",
   "version": "3.8.10"
  },
  "vscode": {
   "interpreter": {
    "hash": "092e1d9bfdd10227fd7108a7ca2a3c37dd1be826b1cf154460a9e05c89dca9f1"
   }
  }
 },
 "nbformat": 4,
 "nbformat_minor": 5
}
